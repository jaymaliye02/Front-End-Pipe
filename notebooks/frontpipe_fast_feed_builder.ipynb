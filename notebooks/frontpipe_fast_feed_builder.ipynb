{
 "cells": [
  {
   "cell_type": "markdown",
   "id": "dcd64d98",
   "metadata": {},
   "source": [
    "# FrontPipe Fast Feed Builder & Tester (v2 full)\n",
    "Quickly validate a single feed end-to-end:\n",
    "1) Load your YAML, locate the feed\n",
    "2) Test subject regex on unread emails in configured folder\n",
    "3) Save `.msg` as Unicode to cache and move to drop\n",
    "4) Run orchestrator and show this feed's status"
   ]
  },
  {
   "cell_type": "markdown",
   "id": "1d804d2f",
   "metadata": {},
   "source": [
    "## 0) Settings"
   ]
  },
  {
   "cell_type": "code",
   "execution_count": null,
   "id": "8cb254e1",
   "metadata": {},
   "outputs": [],
   "source": [
    "CFG_PATH = 'config/frontpipe.sample.yaml'\n",
    "MAILBOX_NAME = 'jm@site.com'\n",
    "FOLDER_PATH  = ['Inbox','Recon Files']\n",
    "FEED_COUNTERPARTY = 'NT'\n",
    "FEED_STREAM       = 'EOD_Summary'"
   ]
  },
  {
   "cell_type": "markdown",
   "id": "cd90670d",
   "metadata": {},
   "source": [
    "## 1) Load YAML and locate feed"
   ]
  },
  {
   "cell_type": "code",
   "execution_count": null,
   "id": "0a71ebf3",
   "metadata": {},
   "outputs": [],
   "source": [
    "import os, yaml, json, hashlib\n",
    "CFG_ABS = os.path.abspath(CFG_PATH)\n",
    "print('USING CONFIG:', CFG_ABS)\n",
    "with open(CFG_ABS, 'rb') as f: raw = f.read()\n",
    "print('SHA256:', hashlib.sha256(raw).hexdigest())\n",
    "cfg = yaml.safe_load(raw)\n",
    "feed = next(f for f in cfg['feeds'] if f['counterparty']==FEED_COUNTERPARTY and f['stream']==FEED_STREAM)\n",
    "print(json.dumps(feed, indent=2))"
   ]
  },
  {
   "cell_type": "markdown",
   "id": "b4487b72",
   "metadata": {},
   "source": [
    "## 2) Regex test on unread emails"
   ]
  },
  {
   "cell_type": "code",
   "execution_count": null,
   "id": "cac496d5",
   "metadata": {},
   "outputs": [],
   "source": [
    "import re, win32com.client\n",
    "subj_pat = feed.get('expected_patterns',{}).get('subject_regex')\n",
    "assert subj_pat, 'No subject_regex found.'\n",
    "subj_re = re.compile(subj_pat)\n",
    "ns = win32com.client.Dispatch('Outlook.Application').GetNamespace('MAPI')\n",
    "fld = ns.Folders[feed.get('mailbox', MAILBOX_NAME)]\n",
    "for p in feed.get('folder_path', FOLDER_PATH): fld = fld.Folders[p]\n",
    "items = fld.Items.Restrict('[Unread] = true'); items.Sort('[ReceivedTime]', True)\n",
    "matched_msg = None\n",
    "for msg in items:\n",
    "    s = (msg.Subject or '').strip()\n",
    "    if subj_re.search(s):\n",
    "        print('✅', s); matched_msg = msg; break\n",
    "    else:\n",
    "        print('❌', s)\n",
    "assert matched_msg, 'No unread emails matched.'"
   ]
  },
  {
   "cell_type": "markdown",
   "id": "b49c4700",
   "metadata": {},
   "source": [
    "## 3) Save `.msg` (Unicode) to cache and move to drop/Data Files/<date>"
   ]
  },
  {
   "cell_type": "code",
   "execution_count": null,
   "id": "1c2a6488",
   "metadata": {},
   "outputs": [],
   "source": [
    "from frontpipe.utils.fs_utils import sanitize_subject, ensure_drop_folder, atomic_move\n",
    "from frontpipe.utils.date_utils import target_date\n",
    "from win32com.client import constants\n",
    "from datetime import datetime, timezone\n",
    "import os\n",
    "cache_dir = os.path.join('runtime','inbox_email_cache'); os.makedirs(cache_dir, exist_ok=True)\n",
    "safe = sanitize_subject(matched_msg.Subject)\n",
    "cache_path = os.path.join(cache_dir, safe + '.msg')\n",
    "try:\n",
    "    matched_msg.SaveAs(cache_path, getattr(constants,'olMSGUnicode',9))\n",
    "except Exception:\n",
    "    matched_msg.SaveAs(cache_path, 3)\n",
    "rule = cfg.get('target_date_rule','prev_bizday_NY')\n",
    "tgt = target_date(rule, datetime.now(timezone.utc))\n",
    "drop_dir = ensure_drop_folder('drop', tgt)\n",
    "final_path = atomic_move(cache_path, drop_dir)\n",
    "print('Saved & moved to:', os.path.abspath(final_path))\n",
    "print('Target date:', tgt)"
   ]
  },
  {
   "cell_type": "markdown",
   "id": "e1469d0b",
   "metadata": {},
   "source": [
    "## 4) Run orchestrator for full status"
   ]
  },
  {
   "cell_type": "code",
   "execution_count": null,
   "id": "304d9d7a",
   "metadata": {},
   "outputs": [],
   "source": [
    "from frontpipe.orchestrator import run_once\n",
    "res = run_once(CFG_PATH, '.', now_utc=datetime.now(timezone.utc))\n",
    "for r in res['master_rows']:\n",
    "    if r['counterparty']==FEED_COUNTERPARTY and r['stream']==FEED_STREAM:\n",
    "        print(r['counterparty'], r['stream'], r['status'], r.get('note',''), r.get('saved_path',''))\n",
    "print('Open runtime/status.html')"
   ]
  }
 ],
 "metadata": {},
 "nbformat": 4,
 "nbformat_minor": 5
}
