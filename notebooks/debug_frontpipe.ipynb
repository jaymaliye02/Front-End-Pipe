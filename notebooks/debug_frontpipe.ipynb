{
 "cells": [
  {
   "cell_type": "markdown",
   "id": "a36b9669",
   "metadata": {},
   "source": [
    "# FrontPipe Debug Notebook\n",
    "Use this to test the system locally before wiring real Outlook/FTP/API.\n",
    "\n",
    "**What this does**\n",
    "- Loads the sample YAML\n",
    "- Runs a single orchestrator pass (moves files from `dev_fixtures/email_samples` to `drop/Data Files/<date>`)\n",
    "- Regenerates the status page\n",
    "\n",
    "> Tip: Place test files in `dev_fixtures/email_samples/` and tweak regexes in `config/frontpipe.sample.yaml`."
   ]
  },
  {
   "cell_type": "code",
   "execution_count": null,
   "id": "6b58464f",
   "metadata": {},
   "outputs": [],
   "source": [
    "from datetime import datetime, timezone\n",
    "import os, json\n",
    "base = os.path.abspath(\".\")\n",
    "print(\"Base:\", base)"
   ]
  },
  {
   "cell_type": "code",
   "execution_count": null,
   "id": "0e3388ed",
   "metadata": {},
   "outputs": [],
   "source": [
    "from frontpipe.orchestrator import run_once\n",
    "res = run_once(\"config/frontpipe.sample.yaml\", \".\", now_utc=datetime(2025,8,14,tzinfo=timezone.utc))\n",
    "res[\"target_date\"], len(res[\"master_rows\"])"
   ]
  },
  {
   "cell_type": "code",
   "execution_count": null,
   "id": "4d42de18",
   "metadata": {},
   "outputs": [],
   "source": [
    "# Show master rows\n",
    "for r in res[\"master_rows\"]:\n",
    "    print(r[\"counterparty\"], r[\"stream\"], r[\"status\"], r.get(\"note\",\"\"), r.get(\"saved_path\",\"\"))"
   ]
  },
  {
   "cell_type": "code",
   "execution_count": null,
   "id": "6f6364c4",
   "metadata": {},
   "outputs": [],
   "source": [
    "# Regenerate status page from saved state\n",
    "from frontpipe.state_store import MasterState\n",
    "from frontpipe.reporter import write_status\n",
    "state = MasterState(\"runtime/state\")\n",
    "rows = state.load(res[\"target_date\"])\n",
    "write_status(\"runtime/status.html\", rows)\n",
    "print(\"Wrote runtime/status.html\")"
   ]
  },
  {
   "cell_type": "markdown",
   "id": "1860de89",
   "metadata": {},
   "source": [
    "### Arrival window override for testing\n",
    "In the YAML, set `test_ignore_arrival_window: true` per feed while testing.\n",
    "Production code should enforce windows inside collectors—kept permissive here to simplify local tests."
   ]
  },
  {
   "cell_type": "markdown",
   "id": "219a56e3",
   "metadata": {},
   "source": [
    "### Debug playbook\n",
    "1. Edit `config/frontpipe.sample.yaml` patterns to match your test file names.\n",
    "2. Drop dummy files into `dev_fixtures/email_samples/`.\n",
    "3. Rerun the orchestrator cell.\n",
    "4. Open `runtime/status.html` to confirm statuses.\n",
    "5. If a feed requires two attachments, ensure both files exist; status remains `pending` until both are found."
   ]
  }
 ],
 "metadata": {},
 "nbformat": 4,
 "nbformat_minor": 5
}
